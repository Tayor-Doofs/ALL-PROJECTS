{
  "nbformat": 4,
  "nbformat_minor": 0,
  "metadata": {
    "colab": {
      "provenance": []
    },
    "kernelspec": {
      "name": "python3",
      "display_name": "Python 3"
    },
    "language_info": {
      "name": "python"
    }
  },
  "cells": [
    {
      "cell_type": "markdown",
      "source": [
        "# STUDENT NAME: ODUFUWA ODUTAYO THOMSON\n",
        "# MATRIC NO: 209074209\n",
        "# COURSE CODE: MIT 816"
      ],
      "metadata": {
        "id": "6-La0Ito54m0"
      }
    },
    {
      "cell_type": "markdown",
      "source": [
        "#DECISION TREE CLASSIFIER"
      ],
      "metadata": {
        "id": "A55R27um309K"
      }
    },
    {
      "cell_type": "markdown",
      "source": [
        "##TASK 2 - Using decision tree classifier on imbalanced datasets"
      ],
      "metadata": {
        "id": "CdRcWLcdQ5T6"
      }
    },
    {
      "cell_type": "markdown",
      "source": [
        "###Import the necessary libraries"
      ],
      "metadata": {
        "id": "SjZY2nDRRAm8"
      }
    },
    {
      "cell_type": "code",
      "execution_count": 1,
      "metadata": {
        "id": "3alHB7uT3Aer"
      },
      "outputs": [],
      "source": [
        "import numpy as np\n",
        "import pandas as pd\n",
        "import matplotlib.pyplot as plt\n",
        "from imblearn.datasets import make_imbalance\n",
        "from sklearn.datasets import load_iris\n",
        "from sklearn.tree import DecisionTreeClassifier\n",
        "from sklearn.model_selection import train_test_split\n",
        "from sklearn.metrics import confusion_matrix, ConfusionMatrixDisplay"
      ]
    },
    {
      "cell_type": "markdown",
      "source": [
        "###Loading the Iris dataset and beginning the prediction process"
      ],
      "metadata": {
        "id": "GwL-BADQRGwi"
      }
    },
    {
      "cell_type": "code",
      "source": [
        "data = load_iris()"
      ],
      "metadata": {
        "id": "y1oxy0VU4VW6"
      },
      "execution_count": 2,
      "outputs": []
    },
    {
      "cell_type": "markdown",
      "source": [
        "The next step is to separate the features from the target. This is done below"
      ],
      "metadata": {
        "id": "7myyNl_MREvJ"
      }
    },
    {
      "cell_type": "code",
      "source": [
        "X = data.data #features\n",
        "y = data.target #target"
      ],
      "metadata": {
        "id": "roikydld4-p3"
      },
      "execution_count": 3,
      "outputs": []
    },
    {
      "cell_type": "markdown",
      "source": [
        "The dataset is balanced but would be converted to an imbalanced dataset"
      ],
      "metadata": {
        "id": "FGP2JrFL5hSR"
      }
    },
    {
      "cell_type": "code",
      "source": [
        "X_imb, y_imb = make_imbalance(X, y, sampling_strategy = {0:10, 1:25, 2:50}, random_state = 42)"
      ],
      "metadata": {
        "id": "5NW34ilk5GNO"
      },
      "execution_count": 4,
      "outputs": []
    },
    {
      "cell_type": "code",
      "source": [
        "X_imb[:20]"
      ],
      "metadata": {
        "colab": {
          "base_uri": "https://localhost:8080/",
          "height": 0
        },
        "id": "zpd2Mi_18Hzg",
        "outputId": "d9d53cb9-c49d-4a04-f845-62bf59ddfef0"
      },
      "execution_count": 5,
      "outputs": [
        {
          "output_type": "execute_result",
          "data": {
            "text/plain": [
              "array([[4.3, 3. , 1.1, 0.1],\n",
              "       [5.1, 3.4, 1.5, 0.2],\n",
              "       [4.8, 3.1, 1.6, 0.2],\n",
              "       [4.8, 3. , 1.4, 0.3],\n",
              "       [5.1, 3.5, 1.4, 0.3],\n",
              "       [5.3, 3.7, 1.5, 0.2],\n",
              "       [5. , 3.4, 1.6, 0.4],\n",
              "       [5. , 3. , 1.6, 0.2],\n",
              "       [5.2, 4.1, 1.5, 0.1],\n",
              "       [5.1, 3.8, 1.5, 0.3],\n",
              "       [5.7, 2.6, 3.5, 1. ],\n",
              "       [5.6, 3. , 4.1, 1.3],\n",
              "       [6.9, 3.1, 4.9, 1.5],\n",
              "       [5.7, 2.9, 4.2, 1.3],\n",
              "       [5.7, 3. , 4.2, 1.2],\n",
              "       [5.5, 2.5, 4. , 1.3],\n",
              "       [6.3, 2.5, 4.9, 1.5],\n",
              "       [5.6, 2.7, 4.2, 1.3],\n",
              "       [5. , 2. , 3.5, 1. ],\n",
              "       [7. , 3.2, 4.7, 1.4]])"
            ]
          },
          "metadata": {},
          "execution_count": 5
        }
      ]
    },
    {
      "cell_type": "code",
      "source": [
        "X_imb.shape"
      ],
      "metadata": {
        "colab": {
          "base_uri": "https://localhost:8080/",
          "height": 0
        },
        "id": "8GQFLdocRVnh",
        "outputId": "ce339089-27d7-4b62-d8cd-81ddeed0d286"
      },
      "execution_count": 28,
      "outputs": [
        {
          "output_type": "execute_result",
          "data": {
            "text/plain": [
              "(85, 4)"
            ]
          },
          "metadata": {},
          "execution_count": 28
        }
      ]
    },
    {
      "cell_type": "code",
      "source": [
        "y[:20]"
      ],
      "metadata": {
        "colab": {
          "base_uri": "https://localhost:8080/",
          "height": 0
        },
        "id": "n3wpSYl--atK",
        "outputId": "3d7e65ca-ff9b-497a-f23b-4d73f6100689"
      },
      "execution_count": 6,
      "outputs": [
        {
          "output_type": "execute_result",
          "data": {
            "text/plain": [
              "array([0, 0, 0, 0, 0, 0, 0, 0, 0, 0, 0, 0, 0, 0, 0, 0, 0, 0, 0, 0])"
            ]
          },
          "metadata": {},
          "execution_count": 6
        }
      ]
    },
    {
      "cell_type": "markdown",
      "source": [
        "The train_test_split library is applied to split the data into a train and a test part. See code below"
      ],
      "metadata": {
        "id": "58_CDukgRjsj"
      }
    },
    {
      "cell_type": "code",
      "source": [
        "X_train, X_test, y_train, y_test = train_test_split(X_imb, y_imb, random_state = 42, test_size = 0.3)"
      ],
      "metadata": {
        "id": "GoqyRVHL-cm-"
      },
      "execution_count": 7,
      "outputs": []
    },
    {
      "cell_type": "code",
      "source": [
        "tree = DecisionTreeClassifier()\n",
        "tree.fit(X_train, y_train)"
      ],
      "metadata": {
        "colab": {
          "base_uri": "https://localhost:8080/",
          "height": 75
        },
        "id": "26kTMMtf-n8b",
        "outputId": "3ba45c7f-e0b8-4c7d-ab2b-10d1440269c0"
      },
      "execution_count": 8,
      "outputs": [
        {
          "output_type": "execute_result",
          "data": {
            "text/plain": [
              "DecisionTreeClassifier()"
            ],
            "text/html": [
              "<style>#sk-container-id-1 {color: black;background-color: white;}#sk-container-id-1 pre{padding: 0;}#sk-container-id-1 div.sk-toggleable {background-color: white;}#sk-container-id-1 label.sk-toggleable__label {cursor: pointer;display: block;width: 100%;margin-bottom: 0;padding: 0.3em;box-sizing: border-box;text-align: center;}#sk-container-id-1 label.sk-toggleable__label-arrow:before {content: \"▸\";float: left;margin-right: 0.25em;color: #696969;}#sk-container-id-1 label.sk-toggleable__label-arrow:hover:before {color: black;}#sk-container-id-1 div.sk-estimator:hover label.sk-toggleable__label-arrow:before {color: black;}#sk-container-id-1 div.sk-toggleable__content {max-height: 0;max-width: 0;overflow: hidden;text-align: left;background-color: #f0f8ff;}#sk-container-id-1 div.sk-toggleable__content pre {margin: 0.2em;color: black;border-radius: 0.25em;background-color: #f0f8ff;}#sk-container-id-1 input.sk-toggleable__control:checked~div.sk-toggleable__content {max-height: 200px;max-width: 100%;overflow: auto;}#sk-container-id-1 input.sk-toggleable__control:checked~label.sk-toggleable__label-arrow:before {content: \"▾\";}#sk-container-id-1 div.sk-estimator input.sk-toggleable__control:checked~label.sk-toggleable__label {background-color: #d4ebff;}#sk-container-id-1 div.sk-label input.sk-toggleable__control:checked~label.sk-toggleable__label {background-color: #d4ebff;}#sk-container-id-1 input.sk-hidden--visually {border: 0;clip: rect(1px 1px 1px 1px);clip: rect(1px, 1px, 1px, 1px);height: 1px;margin: -1px;overflow: hidden;padding: 0;position: absolute;width: 1px;}#sk-container-id-1 div.sk-estimator {font-family: monospace;background-color: #f0f8ff;border: 1px dotted black;border-radius: 0.25em;box-sizing: border-box;margin-bottom: 0.5em;}#sk-container-id-1 div.sk-estimator:hover {background-color: #d4ebff;}#sk-container-id-1 div.sk-parallel-item::after {content: \"\";width: 100%;border-bottom: 1px solid gray;flex-grow: 1;}#sk-container-id-1 div.sk-label:hover label.sk-toggleable__label {background-color: #d4ebff;}#sk-container-id-1 div.sk-serial::before {content: \"\";position: absolute;border-left: 1px solid gray;box-sizing: border-box;top: 0;bottom: 0;left: 50%;z-index: 0;}#sk-container-id-1 div.sk-serial {display: flex;flex-direction: column;align-items: center;background-color: white;padding-right: 0.2em;padding-left: 0.2em;position: relative;}#sk-container-id-1 div.sk-item {position: relative;z-index: 1;}#sk-container-id-1 div.sk-parallel {display: flex;align-items: stretch;justify-content: center;background-color: white;position: relative;}#sk-container-id-1 div.sk-item::before, #sk-container-id-1 div.sk-parallel-item::before {content: \"\";position: absolute;border-left: 1px solid gray;box-sizing: border-box;top: 0;bottom: 0;left: 50%;z-index: -1;}#sk-container-id-1 div.sk-parallel-item {display: flex;flex-direction: column;z-index: 1;position: relative;background-color: white;}#sk-container-id-1 div.sk-parallel-item:first-child::after {align-self: flex-end;width: 50%;}#sk-container-id-1 div.sk-parallel-item:last-child::after {align-self: flex-start;width: 50%;}#sk-container-id-1 div.sk-parallel-item:only-child::after {width: 0;}#sk-container-id-1 div.sk-dashed-wrapped {border: 1px dashed gray;margin: 0 0.4em 0.5em 0.4em;box-sizing: border-box;padding-bottom: 0.4em;background-color: white;}#sk-container-id-1 div.sk-label label {font-family: monospace;font-weight: bold;display: inline-block;line-height: 1.2em;}#sk-container-id-1 div.sk-label-container {text-align: center;}#sk-container-id-1 div.sk-container {/* jupyter's `normalize.less` sets `[hidden] { display: none; }` but bootstrap.min.css set `[hidden] { display: none !important; }` so we also need the `!important` here to be able to override the default hidden behavior on the sphinx rendered scikit-learn.org. See: https://github.com/scikit-learn/scikit-learn/issues/21755 */display: inline-block !important;position: relative;}#sk-container-id-1 div.sk-text-repr-fallback {display: none;}</style><div id=\"sk-container-id-1\" class=\"sk-top-container\"><div class=\"sk-text-repr-fallback\"><pre>DecisionTreeClassifier()</pre><b>In a Jupyter environment, please rerun this cell to show the HTML representation or trust the notebook. <br />On GitHub, the HTML representation is unable to render, please try loading this page with nbviewer.org.</b></div><div class=\"sk-container\" hidden><div class=\"sk-item\"><div class=\"sk-estimator sk-toggleable\"><input class=\"sk-toggleable__control sk-hidden--visually\" id=\"sk-estimator-id-1\" type=\"checkbox\" checked><label for=\"sk-estimator-id-1\" class=\"sk-toggleable__label sk-toggleable__label-arrow\">DecisionTreeClassifier</label><div class=\"sk-toggleable__content\"><pre>DecisionTreeClassifier()</pre></div></div></div></div></div>"
            ]
          },
          "metadata": {},
          "execution_count": 8
        }
      ]
    },
    {
      "cell_type": "code",
      "source": [
        "y_pred = tree.predict(X_test)"
      ],
      "metadata": {
        "id": "gOEj7GE9-v0a"
      },
      "execution_count": 9,
      "outputs": []
    },
    {
      "cell_type": "markdown",
      "source": [
        "### Metrics Evaluation"
      ],
      "metadata": {
        "id": "W5MVoVIwRpSs"
      }
    },
    {
      "cell_type": "markdown",
      "source": [
        "Using Confusion Matrix below, the decision tree classifier would be evaluated to correctness."
      ],
      "metadata": {
        "id": "C2Rl3e16Ruo1"
      }
    },
    {
      "cell_type": "code",
      "source": [
        "from sklearn import metrics\n",
        "cm = metrics.confusion_matrix(y_test, y_pred)\n",
        "cm_display = metrics.ConfusionMatrixDisplay(confusion_matrix = cm, display_labels = [\"Setosa\", \"Versicolor\", \"Verginica\"])\n",
        "cm_display.plot()"
      ],
      "metadata": {
        "colab": {
          "base_uri": "https://localhost:8080/",
          "height": 472
        },
        "id": "E-jeO4zd-1ge",
        "outputId": "4947b5b4-7505-42fc-8c65-dd2ad679bf43"
      },
      "execution_count": 10,
      "outputs": [
        {
          "output_type": "execute_result",
          "data": {
            "text/plain": [
              "<sklearn.metrics._plot.confusion_matrix.ConfusionMatrixDisplay at 0x7a381cf582b0>"
            ]
          },
          "metadata": {},
          "execution_count": 10
        },
        {
          "output_type": "display_data",
          "data": {
            "text/plain": [
              "<Figure size 640x480 with 2 Axes>"
            ],
            "image/png": "[encoded data removed]"
          },
          "metadata": {}
        }
      ]
    },
    {
      "cell_type": "code",
      "source": [
        "f1_score = metrics.f1_score(y_test, y_pred, average=\"macro\")\n",
        "print(f\"F1 score is {f1_score}\")"
      ],
      "metadata": {
        "colab": {
          "base_uri": "https://localhost:8080/",
          "height": 0
        },
        "id": "0aaJsDwq_FKB",
        "outputId": "340bb901-9765-494c-ebaf-7bbb8c4fcbe5"
      },
      "execution_count": 11,
      "outputs": [
        {
          "output_type": "stream",
          "name": "stdout",
          "text": [
            "F1 score is 0.9361111111111112\n"
          ]
        }
      ]
    },
    {
      "cell_type": "markdown",
      "source": [
        "###ASSIGNMENT 2"
      ],
      "metadata": {
        "id": "QIEJj4oS_72H"
      }
    },
    {
      "cell_type": "markdown",
      "source": [
        "####Question 1: Give the interpretation of the F1 score above and its implication on the classification process"
      ],
      "metadata": {
        "id": "z7GwCFi7__xn"
      }
    },
    {
      "cell_type": "markdown",
      "source": [
        "An F1 score of approximately 0.936 indicates that the classification model you're evaluating has achieved a high level of accuracy and balance between precision and recall. Here's how to interpret it:\n",
        "\n",
        "1. High Overall Performance: An F1 score in the range of 0.9 and above is considered very good. So, 0.936 is an excellent F1 score.\n",
        "\n",
        "2. High Precision and Recall: This F1 score suggests that the model is making accurate positive predictions (high precision) while also capturing most of the actual positive instances (high recall).\n",
        "\n",
        "3. Well-Balanced: The F1 score balances the trade-off between precision and recall. In your case, it's close to 1, which means that the model is performing well without a significant trade-off between precision and recall.\n",
        "\n",
        "4. Effective for Classification: Such a high F1 score indicates that the model is highly effective at classifying instances, especially in tasks where both precision and recall are critical, like medical diagnosis or fraud detection.\n",
        "\n",
        "In summary, an F1 score of approximately 0.936 is a strong indicator of a well-performing classification model. It suggests that the model is making accurate and comprehensive predictions for the positive class. However, always consider the specific context of your problem and the trade-offs between precision and recall that best suit your application."
      ],
      "metadata": {
        "id": "dpu-VBBkADxD"
      }
    },
    {
      "cell_type": "markdown",
      "source": [
        "####Question 2: Use G-MEAN metric to evaluate the classifier and interpret the result"
      ],
      "metadata": {
        "id": "1_CcuqxdHnl0"
      }
    },
    {
      "cell_type": "markdown",
      "source": [
        "A function 'g_mean(cm)' is created below to assess/evaluate the classifier. This is used because we're dealing with an imbalanced dataset.\n",
        "\n",
        "Recall we used the 'accuracy_score' metric, however, that was for a balanced dataset."
      ],
      "metadata": {
        "id": "W-0UbHkCHw8s"
      }
    },
    {
      "cell_type": "code",
      "source": [
        "def g_mean(cm):\n",
        "  num_classes = cm.shape[0]\n",
        "  class_labels = [\"Setosa\", \"Versicolor\", \"Verginica\"]\n",
        "  gmeans = []\n",
        "\n",
        "  for positive_class in range(num_classes):\n",
        "      # Calculate True Positives (TP)\n",
        "      tp = cm[positive_class, positive_class]\n",
        "\n",
        "      # Calculate True Negatives (TN)\n",
        "      tn = 0\n",
        "      for i in range(num_classes):\n",
        "          for j in range(num_classes):\n",
        "              if i != positive_class and j != positive_class:\n",
        "                  tn += cm[i, j]\n",
        "\n",
        "      # Calculate False Positives (FP)\n",
        "      fp = 0\n",
        "      for i in range(num_classes):\n",
        "          if i != positive_class:\n",
        "              fp += cm[i, positive_class]\n",
        "\n",
        "      # Calculate False Negatives (FN)\n",
        "      fn = 0\n",
        "      for j in range(num_classes):\n",
        "          if j != positive_class:\n",
        "              fn += cm[positive_class, j]\n",
        "\n",
        "      # Calculate Sensitivity (True Positive Rate)\n",
        "      sensitivity = tp / (tp + fn)\n",
        "\n",
        "      # Calculate Specificity (True Negative Rate)\n",
        "      specificity = tn / (tn + fp)\n",
        "\n",
        "      # Calculate G-Mean\n",
        "      gmean = np.sqrt(sensitivity * specificity)\n",
        "      gmeans.append(gmean)\n",
        "\n",
        "  # Print G-Mean for each positive class\n",
        "  for i, positive_class in enumerate(class_labels):\n",
        "      print(f\"G-Mean for {positive_class} as Positive Class: {gmeans[i]}\")"
      ],
      "metadata": {
        "id": "e1a96FkxGGC-"
      },
      "execution_count": 26,
      "outputs": []
    },
    {
      "cell_type": "code",
      "source": [
        "g_mean(cm)"
      ],
      "metadata": {
        "colab": {
          "base_uri": "https://localhost:8080/",
          "height": 0
        },
        "id": "HoOXlSA8Qspv",
        "outputId": "07e5fa5d-e91a-4ee8-8132-211b5f8829ab"
      },
      "execution_count": 27,
      "outputs": [
        {
          "output_type": "stream",
          "name": "stdout",
          "text": [
            "G-Mean for Setosa as Positive Class: 1.0\n",
            "G-Mean for Versicolor as Positive Class: 0.9090593428863095\n",
            "G-Mean for Verginica as Positive Class: 0.9211323729436766\n"
          ]
        }
      ]
    },
    {
      "cell_type": "markdown",
      "source": [
        "Interpretation:\n",
        "\n",
        "1. Setosa as Positive Class (G-Mean: 1.0): When Setosa is considered the positive class, the classifier performs perfectly. This means that for Setosa, both sensitivity (True Positive Rate) and specificity (True Negative Rate) are 100%, indicating that there are no false positives or false negatives. It's an ideal scenario.\n",
        "2. Versicolor as Positive Class (G-Mean: 0.9091): When Versicolor is considered the positive class, the G-Mean is 0.9091. This suggests that the classifier's performance is quite good but not perfect. The model may have some false positives or false negatives when Versicolor is the focus.\n",
        "3. Verginica as Positive Class (G-Mean: 0.9211): When Verginica is considered the positive class, the G-Mean is 0.9211. Similar to the Versicolor case, the classifier's performance is good but not perfect when Verginica is the focus.\n",
        "\n",
        "In summary, when Setosa is the positive class, the classifier performs flawlessly. However, when considering Versicolor or Verginica as the positive class, there are some misclassifications, but overall, the classifier's performance is still reasonably good, as indicated by the G-Mean values close to 1.0. The specific strengths and weaknesses of the classifier can be further examined by looking at other metrics and the nature of the dataset."
      ],
      "metadata": {
        "id": "qH1vjHwKNo0E"
      }
    }
  ]
}