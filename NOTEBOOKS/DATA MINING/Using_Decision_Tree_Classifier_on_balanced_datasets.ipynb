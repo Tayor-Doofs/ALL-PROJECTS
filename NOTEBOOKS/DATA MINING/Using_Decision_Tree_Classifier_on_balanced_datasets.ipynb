{
  "nbformat": 4,
  "nbformat_minor": 0,
  "metadata": {
    "colab": {
      "provenance": []
    },
    "kernelspec": {
      "name": "python3",
      "display_name": "Python 3"
    },
    "language_info": {
      "name": "python"
    }
  },
  "cells": [
    {
      "cell_type": "markdown",
      "source": [
        "# STUDENT NAME: ODUFUWA ODUTAYO THOMSON\n",
        "# MATRIC NO: 209074209\n",
        "# COURSE CODE: MIT 816\n"
      ],
      "metadata": {
        "id": "VG30YvIp4-Rx"
      }
    },
    {
      "cell_type": "markdown",
      "source": [
        "#DECISION TREE CLASSIFICATION"
      ],
      "metadata": {
        "id": "6lmddqjJqtlP"
      }
    },
    {
      "cell_type": "markdown",
      "source": [
        "##TASK 1 - Using decision tree classifier on balanced datasets"
      ],
      "metadata": {
        "id": "uaXNW1z-3e5m"
      }
    },
    {
      "cell_type": "markdown",
      "source": [
        "###Import the necessary libraries"
      ],
      "metadata": {
        "id": "RNfsuodrq8aI"
      }
    },
    {
      "cell_type": "code",
      "execution_count": 2,
      "metadata": {
        "id": "h2Y2uSfbqFHC"
      },
      "outputs": [],
      "source": [
        "import numpy as np\n",
        "import pandas as pd\n",
        "import matplotlib.pyplot as plt\n",
        "from imblearn.datasets import make_imbalance\n",
        "from sklearn.datasets import load_iris\n",
        "from sklearn.tree import DecisionTreeClassifier\n",
        "from sklearn.model_selection import train_test_split\n",
        "from sklearn.metrics import confusion_matrix, ConfusionMatrixDisplay"
      ]
    },
    {
      "cell_type": "markdown",
      "source": [
        "###Loading the Iris dataset and beginning the prediction process"
      ],
      "metadata": {
        "id": "TC7CIC7UzX5m"
      }
    },
    {
      "cell_type": "code",
      "source": [
        "data = load_iris() #iris dataset is loaded into a variable named data"
      ],
      "metadata": {
        "id": "c9ba9GT_rHju"
      },
      "execution_count": 3,
      "outputs": []
    },
    {
      "cell_type": "markdown",
      "source": [
        "The next step is to separate the features from the target. This is done below\n",
        "\n"
      ],
      "metadata": {
        "id": "Yf9dR3ItzyNM"
      }
    },
    {
      "cell_type": "code",
      "source": [
        "X = data.data #features\n",
        "y = data.target #target"
      ],
      "metadata": {
        "id": "mU1XrEfYrP3y"
      },
      "execution_count": 4,
      "outputs": []
    },
    {
      "cell_type": "code",
      "source": [
        "X.shape"
      ],
      "metadata": {
        "colab": {
          "base_uri": "https://localhost:8080/",
          "height": 0
        },
        "id": "peOVOwMT8Rj1",
        "outputId": "5dc53870-04c8-4083-bd8f-a1ae4703cd4f"
      },
      "execution_count": 16,
      "outputs": [
        {
          "output_type": "execute_result",
          "data": {
            "text/plain": [
              "(150, 4)"
            ]
          },
          "metadata": {},
          "execution_count": 16
        }
      ]
    },
    {
      "cell_type": "code",
      "source": [
        "y[:20]"
      ],
      "metadata": {
        "colab": {
          "base_uri": "https://localhost:8080/",
          "height": 0
        },
        "id": "5kqjcwEY8hDw",
        "outputId": "a7d043fc-8c68-48a4-9c0f-aff7346cf1df"
      },
      "execution_count": 19,
      "outputs": [
        {
          "output_type": "execute_result",
          "data": {
            "text/plain": [
              "array([0, 0, 0, 0, 0, 0, 0, 0, 0, 0, 0, 0, 0, 0, 0, 0, 0, 0, 0, 0])"
            ]
          },
          "metadata": {},
          "execution_count": 19
        }
      ]
    },
    {
      "cell_type": "code",
      "source": [
        "X[:20]"
      ],
      "metadata": {
        "colab": {
          "base_uri": "https://localhost:8080/",
          "height": 0
        },
        "id": "M138winZ9PLS",
        "outputId": "fbbf69ab-66f2-4e12-f3a0-15ac2244a78f"
      },
      "execution_count": 20,
      "outputs": [
        {
          "output_type": "execute_result",
          "data": {
            "text/plain": [
              "array([[5.1, 3.5, 1.4, 0.2],\n",
              "       [4.9, 3. , 1.4, 0.2],\n",
              "       [4.7, 3.2, 1.3, 0.2],\n",
              "       [4.6, 3.1, 1.5, 0.2],\n",
              "       [5. , 3.6, 1.4, 0.2],\n",
              "       [5.4, 3.9, 1.7, 0.4],\n",
              "       [4.6, 3.4, 1.4, 0.3],\n",
              "       [5. , 3.4, 1.5, 0.2],\n",
              "       [4.4, 2.9, 1.4, 0.2],\n",
              "       [4.9, 3.1, 1.5, 0.1],\n",
              "       [5.4, 3.7, 1.5, 0.2],\n",
              "       [4.8, 3.4, 1.6, 0.2],\n",
              "       [4.8, 3. , 1.4, 0.1],\n",
              "       [4.3, 3. , 1.1, 0.1],\n",
              "       [5.8, 4. , 1.2, 0.2],\n",
              "       [5.7, 4.4, 1.5, 0.4],\n",
              "       [5.4, 3.9, 1.3, 0.4],\n",
              "       [5.1, 3.5, 1.4, 0.3],\n",
              "       [5.7, 3.8, 1.7, 0.3],\n",
              "       [5.1, 3.8, 1.5, 0.3]])"
            ]
          },
          "metadata": {},
          "execution_count": 20
        }
      ]
    },
    {
      "cell_type": "markdown",
      "source": [
        "The train_test_split library is applied to split the data into a train and a test part. See code below"
      ],
      "metadata": {
        "id": "6YqQzkUNz-NS"
      }
    },
    {
      "cell_type": "code",
      "source": [
        "X_train, X_test, y_train, y_test = train_test_split(X, y, random_state = 42, test_size = 0.3)"
      ],
      "metadata": {
        "id": "d_zLFYHKrYRx"
      },
      "execution_count": 5,
      "outputs": []
    },
    {
      "cell_type": "markdown",
      "source": [
        "The variable 'tree' is used to store the DecionTreeClassifier algorithm and used to train the X-train and y_train values. This is further used to predict the value of 'y' given 'X_test'. See code below"
      ],
      "metadata": {
        "id": "ls12WJvg0NVg"
      }
    },
    {
      "cell_type": "code",
      "source": [
        "tree = DecisionTreeClassifier()"
      ],
      "metadata": {
        "id": "LptJVZmYrvnN"
      },
      "execution_count": 6,
      "outputs": []
    },
    {
      "cell_type": "code",
      "source": [
        "tree = tree.fit(X_train, y_train)"
      ],
      "metadata": {
        "id": "LKbPOlD3r0s9"
      },
      "execution_count": 7,
      "outputs": []
    },
    {
      "cell_type": "code",
      "source": [
        "y_pred = tree.predict(X_test)"
      ],
      "metadata": {
        "id": "eCBpbuGTr7nb"
      },
      "execution_count": 8,
      "outputs": []
    },
    {
      "cell_type": "markdown",
      "source": [
        "### Metrics Evaluation"
      ],
      "metadata": {
        "id": "nRSpNVZu0yQf"
      }
    },
    {
      "cell_type": "markdown",
      "source": [
        "Using Confusion Matrix below, the decision tree classifier would be evaluated to correctness."
      ],
      "metadata": {
        "id": "ZE3TCNAO1Lpw"
      }
    },
    {
      "cell_type": "code",
      "source": [
        "from sklearn import metrics\n",
        "cm = metrics.confusion_matrix(y_test, y_pred)\n",
        "cm_display = metrics.ConfusionMatrixDisplay(confusion_matrix = cm, display_labels = [\"Setosa\", \"Versicolor\", \"Verginica\"])\n",
        "cm_display.plot()"
      ],
      "metadata": {
        "colab": {
          "base_uri": "https://localhost:8080/",
          "height": 466
        },
        "id": "gxto-K_bsQ_L",
        "outputId": "3b7293c0-20cf-4922-8311-7715a45ff05b"
      },
      "execution_count": 9,
      "outputs": [
        {
          "output_type": "execute_result",
          "data": {
            "text/plain": [
              "<sklearn.metrics._plot.confusion_matrix.ConfusionMatrixDisplay at 0x7cdd5f45fd00>"
            ]
          },
          "metadata": {},
          "execution_count": 9
        },
        {
          "output_type": "display_data",
          "data": {
            "text/plain": [
              "<Figure size 640x480 with 2 Axes>"
            ],
            "image/png": "[encoded data removed]"
          },
          "metadata": {}
        }
      ]
    },
    {
      "cell_type": "code",
      "source": [
        "f1_score = metrics.f1_score(y_test, y_pred, average=\"macro\")\n",
        "print(f\"F1 score is {f1_score}\")"
      ],
      "metadata": {
        "colab": {
          "base_uri": "https://localhost:8080/",
          "height": 0
        },
        "id": "LbyuyLeps0bN",
        "outputId": "f9184d81-697c-4acd-cc0b-118952c779ff"
      },
      "execution_count": 10,
      "outputs": [
        {
          "output_type": "stream",
          "name": "stdout",
          "text": [
            "F1 score is 1.0\n"
          ]
        }
      ]
    },
    {
      "cell_type": "markdown",
      "source": [
        "###ASSIGNMENT 1"
      ],
      "metadata": {
        "id": "oK0TdMfL_nk0"
      }
    },
    {
      "cell_type": "markdown",
      "source": [
        "####Question 1 : Interprete the F1 **score** above"
      ],
      "metadata": {
        "id": "XeIT89VGtU7A"
      }
    },
    {
      "cell_type": "markdown",
      "source": [
        "A F1 score of 1 indicates perfect precision and recall, which means the classification model has achieved the best possible balance between them.\n",
        "\n",
        "Perfect Precision (Precision = 1): When precision is 1, it means that every positive prediction made by the model is correct. There are no false positives; every instance predicted as positive is indeed positive.\n",
        "\n",
        "Perfect Recall (Recall = 1): When recall is 1, it means that the model correctly identifies all actual positive instances. There are no false negatives; the model captures every positive instance.\n",
        "\n",
        "In practical terms, an F1 score of 1 suggests that the model's positive predictions are all correct, and it doesn't miss any actual positive instances."
      ],
      "metadata": {
        "id": "hNUxh2QSwIkp"
      }
    },
    {
      "cell_type": "markdown",
      "source": [
        "####Question 2: Use Accuracy metric to evaluate the classifier and interprete the result"
      ],
      "metadata": {
        "id": "L_Bk5EIcwfGB"
      }
    },
    {
      "cell_type": "code",
      "source": [
        "from sklearn.metrics import accuracy_score"
      ],
      "metadata": {
        "id": "xNnk-wYrtPl5"
      },
      "execution_count": 11,
      "outputs": []
    },
    {
      "cell_type": "code",
      "source": [
        "accuracy = accuracy_score(y_test, y_pred)\n",
        "print(f\"Accuracy is {accuracy}\")"
      ],
      "metadata": {
        "colab": {
          "base_uri": "https://localhost:8080/",
          "height": 0
        },
        "id": "dXGJlNyyxR2a",
        "outputId": "4240fd15-6fef-4949-f225-4915aecfb6d4"
      },
      "execution_count": 14,
      "outputs": [
        {
          "output_type": "stream",
          "name": "stdout",
          "text": [
            "Accuracy is 1.0\n"
          ]
        }
      ]
    },
    {
      "cell_type": "markdown",
      "source": [
        "The accuracy score will be a value between 0 and 1, where 1 indicates perfect accuracy (all predictions are correct).\n",
        "\n",
        "While an F1 score of 1 implies perfect precision and recall, the accuracy score tells you the overall proportion of correct predictions. If the accuracy score is also 1, it means your classifier has made zero mistakes on the dataset."
      ],
      "metadata": {
        "id": "04kX-FKJyHpU"
      }
    },
    {
      "cell_type": "code",
      "source": [],
      "metadata": {
        "id": "kMkWVsqR2QGB"
      },
      "execution_count": null,
      "outputs": []
    }
  ]
}